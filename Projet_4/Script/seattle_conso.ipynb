{
 "cells": [
  {
   "cell_type": "markdown",
   "id": "80356a01-c7f8-41d4-926e-1aae5051aa76",
   "metadata": {},
   "source": [
    "# Projet 4 - Anticipez les besoins en consommation de bâtiments - SEATTLE"
   ]
  },
  {
   "cell_type": "markdown",
   "id": "956d4ef3",
   "metadata": {},
   "source": []
  }
 ],
 "metadata": {
  "kernelspec": {
   "display_name": "",
   "name": ""
  },
  "language_info": {
   "name": ""
  }
 },
 "nbformat": 4,
 "nbformat_minor": 5
}
